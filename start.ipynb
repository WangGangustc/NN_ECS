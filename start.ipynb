{
 "cells": [
  {
   "cell_type": "code",
   "execution_count": 1,
   "id": "7bdeef07",
   "metadata": {},
   "outputs": [],
   "source": [
    "import torch\n",
    "import warnings\n",
    "warnings.filterwarnings(\"ignore\")\n",
    "import dgl\n",
    "import dgllife\n",
    "import rdkit\n",
    "from dgllife.utils import smiles_to_bigraph\n",
    "from featurize import featurize_atoms,featurize_bonds"
   ]
  },
  {
   "cell_type": "code",
   "execution_count": 2,
   "id": "9412de26",
   "metadata": {},
   "outputs": [],
   "source": [
    "from function import NN_ECS,cal_pressure,cal_energy"
   ]
  },
  {
   "cell_type": "code",
   "execution_count": 3,
   "id": "68b3fa8e",
   "metadata": {},
   "outputs": [
    {
     "name": "stdout",
     "output_type": "stream",
     "text": [
      "torch version: 2.3.0+cu121\n",
      "rdkit version: 2023.09.4\n",
      "dgl version: 2.2.1+cu121\n",
      "dgllife version: 0.3.2\n"
     ]
    }
   ],
   "source": [
    "print(f\"torch version: {torch.__version__}\")\n",
    "print(f\"rdkit version: {rdkit.__version__}\")\n",
    "print(f\"dgl version: {dgl.__version__}\")\n",
    "print(f\"dgllife version: {dgllife.__version__}\")"
   ]
  },
  {
   "cell_type": "code",
   "execution_count": 4,
   "id": "5f6a8772",
   "metadata": {},
   "outputs": [],
   "source": [
    "#load the NN-ECS model\n",
    "model=torch.load('model.pt')\n",
    "model.to('cpu');"
   ]
  },
  {
   "cell_type": "code",
   "execution_count": 5,
   "id": "c15435b3",
   "metadata": {},
   "outputs": [],
   "source": [
    "#transform the SMILES string to the molecular graph in dgl\n",
    "g_tar=smiles_to_bigraph(smiles='C=C(C(F)(F)F)F',node_featurizer=featurize_atoms,edge_featurizer=featurize_bonds)  #R1234yf  the test target fluid\n",
    "g_ref=smiles_to_bigraph(smiles='C(=C/F)\\C(F)(F)F',node_featurizer=featurize_atoms,edge_featurizer=featurize_bonds)  #R1234ze(E) the reference fluid"
   ]
  },
  {
   "cell_type": "code",
   "execution_count": 6,
   "id": "2e3fe71e",
   "metadata": {},
   "outputs": [],
   "source": [
    "t=torch.tensor([300,310,400,]);\n",
    "d=torch.tensor([11,10,5]);\n",
    "tc=367.85;dc=4.18;"
   ]
  },
  {
   "cell_type": "code",
   "execution_count": 7,
   "id": "82059fa3",
   "metadata": {},
   "outputs": [],
   "source": [
    "#calculate the pressure\n",
    "p=cal_pressure(model,g_tar,g_ref,t,d,tc,dc)  #MPa"
   ]
  },
  {
   "cell_type": "code",
   "execution_count": 8,
   "id": "b89f9c26",
   "metadata": {},
   "outputs": [
    {
     "data": {
      "text/plain": [
       "tensor([45.6661, 15.7411,  6.3130], grad_fn=<MulBackward0>)"
      ]
     },
     "execution_count": 8,
     "metadata": {},
     "output_type": "execute_result"
    }
   ],
   "source": [
    "p"
   ]
  },
  {
   "cell_type": "code",
   "execution_count": 9,
   "id": "bf778a34",
   "metadata": {},
   "outputs": [],
   "source": [
    "#calculate the residual entropy and residual enthalpy\n",
    "sr,hr=cal_energy(model,g_tar,g_ref,t,d,tc,dc)   #sr J/mol ht J/mol/k"
   ]
  },
  {
   "cell_type": "code",
   "execution_count": 10,
   "id": "48dc0ff8",
   "metadata": {},
   "outputs": [
    {
     "data": {
      "text/plain": [
       "tensor([-0.0375, -0.0315, -0.0127])"
      ]
     },
     "execution_count": 10,
     "metadata": {},
     "output_type": "execute_result"
    }
   ],
   "source": [
    "sr     #sr kJ/mol  "
   ]
  },
  {
   "cell_type": "code",
   "execution_count": 11,
   "id": "d641dcf9",
   "metadata": {},
   "outputs": [
    {
     "data": {
      "text/plain": [
       "tensor([-16.4142, -17.2603, -10.2271])"
      ]
     },
     "execution_count": 11,
     "metadata": {},
     "output_type": "execute_result"
    }
   ],
   "source": [
    "hr  #hr kJ/mol/k"
   ]
  },
  {
   "cell_type": "code",
   "execution_count": null,
   "id": "077cb902",
   "metadata": {},
   "outputs": [],
   "source": []
  },
  {
   "cell_type": "code",
   "execution_count": null,
   "id": "65fe71ab",
   "metadata": {},
   "outputs": [],
   "source": []
  }
 ],
 "metadata": {
  "kernelspec": {
   "display_name": "Python 3 (ipykernel)",
   "language": "python",
   "name": "python3"
  },
  "language_info": {
   "codemirror_mode": {
    "name": "ipython",
    "version": 3
   },
   "file_extension": ".py",
   "mimetype": "text/x-python",
   "name": "python",
   "nbconvert_exporter": "python",
   "pygments_lexer": "ipython3",
   "version": "3.9.19"
  }
 },
 "nbformat": 4,
 "nbformat_minor": 5
}
